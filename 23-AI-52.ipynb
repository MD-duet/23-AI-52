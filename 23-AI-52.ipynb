{
  "nbformat": 4,
  "nbformat_minor": 0,
  "metadata": {
    "colab": {
      "provenance": []
    },
    "kernelspec": {
      "name": "python3",
      "display_name": "Python 3"
    },
    "language_info": {
      "name": "python"
    }
  },
  "cells": [
    {
      "cell_type": "code",
      "execution_count": 33,
      "metadata": {
        "colab": {
          "base_uri": "https://localhost:8080/"
        },
        "id": "7SI5ETiMgNWV",
        "outputId": "d6573576-8b61-41a9-a0f3-7c7c8a9afec9"
      },
      "outputs": [
        {
          "output_type": "stream",
          "name": "stdout",
          "text": [
            "False\n",
            "True\n",
            "False\n",
            "True\n"
          ]
        }
      ],
      "source": [
        "def matching_pattern(pattern, x):\n",
        "    words = x.split()\n",
        "# Check if the pattern length matches the word count\n",
        "    if len(pattern) != len(words):\n",
        "        return False\n",
        "#hashtable for doing mappings\n",
        "    charToWord = {}\n",
        "    wordToChar = {}\n",
        "\n",
        "    for char, word in zip(pattern, words):\n",
        "        if char in charToWord:\n",
        "\n",
        "            if charToWord[char] != word:\n",
        "                return False\n",
        "        else:\n",
        " # making sure the word is not already mapped\n",
        "            if word in wordToChar:\n",
        "                return False\n",
        "# Create a new mapping\n",
        "            charToWord[char] = word\n",
        "            wordToChar[word] = char\n",
        "    else:\n",
        "      return True\n",
        "\n",
        "print(matching_pattern(\"122\", \"apple mango apple\"))\n",
        "print(matching_pattern(\"121\", \"apple mango apple\"))\n",
        "print(matching_pattern(\"22\", \"apple mango apple\"))\n",
        "print(matching_pattern(\"221\", \"mango mango apple\"))\n",
        "\n",
        "\n",
        "\n"
      ]
    }
  ]
}